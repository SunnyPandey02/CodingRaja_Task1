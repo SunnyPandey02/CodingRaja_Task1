{
 "cells": [
  {
   "cell_type": "code",
   "execution_count": 1,
   "id": "cd44e024",
   "metadata": {
    "_cell_guid": "b1076dfc-b9ad-4769-8c92-a6c4dae69d19",
    "_uuid": "8f2839f25d086af736a60e9eeb907d3b93b6e0e5",
    "execution": {
     "iopub.execute_input": "2024-06-07T13:36:26.709423Z",
     "iopub.status.busy": "2024-06-07T13:36:26.708995Z",
     "iopub.status.idle": "2024-06-07T13:36:31.060348Z",
     "shell.execute_reply": "2024-06-07T13:36:31.059231Z"
    },
    "papermill": {
     "duration": 4.364895,
     "end_time": "2024-06-07T13:36:31.063098",
     "exception": false,
     "start_time": "2024-06-07T13:36:26.698203",
     "status": "completed"
    },
    "tags": []
   },
   "outputs": [
    {
     "data": {
      "text/html": [
       "        <script type=\"text/javascript\">\n",
       "        window.PlotlyConfig = {MathJaxConfig: 'local'};\n",
       "        if (window.MathJax && window.MathJax.Hub && window.MathJax.Hub.Config) {window.MathJax.Hub.Config({SVG: {font: \"STIX-Web\"}});}\n",
       "        if (typeof require !== 'undefined') {\n",
       "        require.undef(\"plotly\");\n",
       "        requirejs.config({\n",
       "            paths: {\n",
       "                'plotly': ['https://cdn.plot.ly/plotly-2.12.1.min']\n",
       "            }\n",
       "        });\n",
       "        require(['plotly'], function(Plotly) {\n",
       "            window._Plotly = Plotly;\n",
       "        });\n",
       "        }\n",
       "        </script>\n",
       "        "
      ]
     },
     "metadata": {},
     "output_type": "display_data"
    }
   ],
   "source": [
    "# importing the necessary libraries\n",
    "import pandas as pd\n",
    "import numpy as np\n",
    "from imblearn.under_sampling import RandomUnderSampler\n",
    "\n",
    "#Visualization libraries\n",
    "import seaborn as sns\n",
    "import matplotlib.pyplot as plt\n",
    "import plotly.express as px\n",
    "import plotly.graph_objects as go\n",
    "from plotly.offline import plot, iplot, init_notebook_mode\n",
    "init_notebook_mode(connected=True)\n",
    "%matplotlib inline\n",
    "\n",
    "#preprocessing libraries\n",
    "from sklearn.preprocessing import StandardScaler\n",
    "from sklearn.model_selection import train_test_split\n",
    "\n",
    "#ML libraries\n",
    "from sklearn.svm import SVC\n",
    "from sklearn.model_selection import GridSearchCV\n",
    "from sklearn.linear_model import LogisticRegression\n",
    "from sklearn.tree import DecisionTreeClassifier\n",
    "from sklearn.ensemble import RandomForestClassifier\n",
    "from sklearn.naive_bayes import GaussianNB\n",
    "from sklearn.neighbors import KNeighborsClassifier\n",
    "#Metrics Libraries\n",
    "from sklearn import metrics\n",
    "from sklearn.metrics import classification_report\n",
    "from sklearn.model_selection import cross_val_score\n",
    "from sklearn.metrics import accuracy_score\n",
    "from sklearn.metrics import confusion_matrix\n",
    "#Misc libraries\n",
    "import warnings\n",
    "warnings.filterwarnings(\"ignore\")"
   ]
  },
  {
   "cell_type": "code",
   "execution_count": 2,
   "id": "34867657",
   "metadata": {
    "collapsed": true,
    "execution": {
     "iopub.execute_input": "2024-06-07T13:36:31.083368Z",
     "iopub.status.busy": "2024-06-07T13:36:31.082729Z",
     "iopub.status.idle": "2024-06-07T13:36:52.869298Z",
     "shell.execute_reply": "2024-06-07T13:36:52.868110Z"
    },
    "papermill": {
     "duration": 21.799969,
     "end_time": "2024-06-07T13:36:52.872292",
     "exception": false,
     "start_time": "2024-06-07T13:36:31.072323",
     "status": "completed"
    },
    "tags": []
   },
   "outputs": [
    {
     "ename": "FileNotFoundError",
     "evalue": "[Errno 2] No such file or directory: '/kaggle/input/paysim1/PS_20174392719_1491204439457_log.csv'",
     "output_type": "error",
     "traceback": [
      "\u001b[1;31m---------------------------------------------------------------------------\u001b[0m",
      "\u001b[1;31mFileNotFoundError\u001b[0m                         Traceback (most recent call last)",
      "Cell \u001b[1;32mIn[2], line 2\u001b[0m\n\u001b[0;32m      1\u001b[0m \u001b[38;5;66;03m# read the data\u001b[39;00m\n\u001b[1;32m----> 2\u001b[0m df \u001b[38;5;241m=\u001b[39m pd\u001b[38;5;241m.\u001b[39mread_csv(\u001b[38;5;124m\"\u001b[39m\u001b[38;5;124m/kaggle/input/paysim1/PS_20174392719_1491204439457_log.csv\u001b[39m\u001b[38;5;124m\"\u001b[39m)\n",
      "File \u001b[1;32m~\\anaconda3\\Lib\\site-packages\\pandas\\io\\parsers\\readers.py:912\u001b[0m, in \u001b[0;36mread_csv\u001b[1;34m(filepath_or_buffer, sep, delimiter, header, names, index_col, usecols, dtype, engine, converters, true_values, false_values, skipinitialspace, skiprows, skipfooter, nrows, na_values, keep_default_na, na_filter, verbose, skip_blank_lines, parse_dates, infer_datetime_format, keep_date_col, date_parser, date_format, dayfirst, cache_dates, iterator, chunksize, compression, thousands, decimal, lineterminator, quotechar, quoting, doublequote, escapechar, comment, encoding, encoding_errors, dialect, on_bad_lines, delim_whitespace, low_memory, memory_map, float_precision, storage_options, dtype_backend)\u001b[0m\n\u001b[0;32m    899\u001b[0m kwds_defaults \u001b[38;5;241m=\u001b[39m _refine_defaults_read(\n\u001b[0;32m    900\u001b[0m     dialect,\n\u001b[0;32m    901\u001b[0m     delimiter,\n\u001b[1;32m   (...)\u001b[0m\n\u001b[0;32m    908\u001b[0m     dtype_backend\u001b[38;5;241m=\u001b[39mdtype_backend,\n\u001b[0;32m    909\u001b[0m )\n\u001b[0;32m    910\u001b[0m kwds\u001b[38;5;241m.\u001b[39mupdate(kwds_defaults)\n\u001b[1;32m--> 912\u001b[0m \u001b[38;5;28;01mreturn\u001b[39;00m _read(filepath_or_buffer, kwds)\n",
      "File \u001b[1;32m~\\anaconda3\\Lib\\site-packages\\pandas\\io\\parsers\\readers.py:577\u001b[0m, in \u001b[0;36m_read\u001b[1;34m(filepath_or_buffer, kwds)\u001b[0m\n\u001b[0;32m    574\u001b[0m _validate_names(kwds\u001b[38;5;241m.\u001b[39mget(\u001b[38;5;124m\"\u001b[39m\u001b[38;5;124mnames\u001b[39m\u001b[38;5;124m\"\u001b[39m, \u001b[38;5;28;01mNone\u001b[39;00m))\n\u001b[0;32m    576\u001b[0m \u001b[38;5;66;03m# Create the parser.\u001b[39;00m\n\u001b[1;32m--> 577\u001b[0m parser \u001b[38;5;241m=\u001b[39m TextFileReader(filepath_or_buffer, \u001b[38;5;241m*\u001b[39m\u001b[38;5;241m*\u001b[39mkwds)\n\u001b[0;32m    579\u001b[0m \u001b[38;5;28;01mif\u001b[39;00m chunksize \u001b[38;5;129;01mor\u001b[39;00m iterator:\n\u001b[0;32m    580\u001b[0m     \u001b[38;5;28;01mreturn\u001b[39;00m parser\n",
      "File \u001b[1;32m~\\anaconda3\\Lib\\site-packages\\pandas\\io\\parsers\\readers.py:1407\u001b[0m, in \u001b[0;36mTextFileReader.__init__\u001b[1;34m(self, f, engine, **kwds)\u001b[0m\n\u001b[0;32m   1404\u001b[0m     \u001b[38;5;28mself\u001b[39m\u001b[38;5;241m.\u001b[39moptions[\u001b[38;5;124m\"\u001b[39m\u001b[38;5;124mhas_index_names\u001b[39m\u001b[38;5;124m\"\u001b[39m] \u001b[38;5;241m=\u001b[39m kwds[\u001b[38;5;124m\"\u001b[39m\u001b[38;5;124mhas_index_names\u001b[39m\u001b[38;5;124m\"\u001b[39m]\n\u001b[0;32m   1406\u001b[0m \u001b[38;5;28mself\u001b[39m\u001b[38;5;241m.\u001b[39mhandles: IOHandles \u001b[38;5;241m|\u001b[39m \u001b[38;5;28;01mNone\u001b[39;00m \u001b[38;5;241m=\u001b[39m \u001b[38;5;28;01mNone\u001b[39;00m\n\u001b[1;32m-> 1407\u001b[0m \u001b[38;5;28mself\u001b[39m\u001b[38;5;241m.\u001b[39m_engine \u001b[38;5;241m=\u001b[39m \u001b[38;5;28mself\u001b[39m\u001b[38;5;241m.\u001b[39m_make_engine(f, \u001b[38;5;28mself\u001b[39m\u001b[38;5;241m.\u001b[39mengine)\n",
      "File \u001b[1;32m~\\anaconda3\\Lib\\site-packages\\pandas\\io\\parsers\\readers.py:1661\u001b[0m, in \u001b[0;36mTextFileReader._make_engine\u001b[1;34m(self, f, engine)\u001b[0m\n\u001b[0;32m   1659\u001b[0m     \u001b[38;5;28;01mif\u001b[39;00m \u001b[38;5;124m\"\u001b[39m\u001b[38;5;124mb\u001b[39m\u001b[38;5;124m\"\u001b[39m \u001b[38;5;129;01mnot\u001b[39;00m \u001b[38;5;129;01min\u001b[39;00m mode:\n\u001b[0;32m   1660\u001b[0m         mode \u001b[38;5;241m+\u001b[39m\u001b[38;5;241m=\u001b[39m \u001b[38;5;124m\"\u001b[39m\u001b[38;5;124mb\u001b[39m\u001b[38;5;124m\"\u001b[39m\n\u001b[1;32m-> 1661\u001b[0m \u001b[38;5;28mself\u001b[39m\u001b[38;5;241m.\u001b[39mhandles \u001b[38;5;241m=\u001b[39m get_handle(\n\u001b[0;32m   1662\u001b[0m     f,\n\u001b[0;32m   1663\u001b[0m     mode,\n\u001b[0;32m   1664\u001b[0m     encoding\u001b[38;5;241m=\u001b[39m\u001b[38;5;28mself\u001b[39m\u001b[38;5;241m.\u001b[39moptions\u001b[38;5;241m.\u001b[39mget(\u001b[38;5;124m\"\u001b[39m\u001b[38;5;124mencoding\u001b[39m\u001b[38;5;124m\"\u001b[39m, \u001b[38;5;28;01mNone\u001b[39;00m),\n\u001b[0;32m   1665\u001b[0m     compression\u001b[38;5;241m=\u001b[39m\u001b[38;5;28mself\u001b[39m\u001b[38;5;241m.\u001b[39moptions\u001b[38;5;241m.\u001b[39mget(\u001b[38;5;124m\"\u001b[39m\u001b[38;5;124mcompression\u001b[39m\u001b[38;5;124m\"\u001b[39m, \u001b[38;5;28;01mNone\u001b[39;00m),\n\u001b[0;32m   1666\u001b[0m     memory_map\u001b[38;5;241m=\u001b[39m\u001b[38;5;28mself\u001b[39m\u001b[38;5;241m.\u001b[39moptions\u001b[38;5;241m.\u001b[39mget(\u001b[38;5;124m\"\u001b[39m\u001b[38;5;124mmemory_map\u001b[39m\u001b[38;5;124m\"\u001b[39m, \u001b[38;5;28;01mFalse\u001b[39;00m),\n\u001b[0;32m   1667\u001b[0m     is_text\u001b[38;5;241m=\u001b[39mis_text,\n\u001b[0;32m   1668\u001b[0m     errors\u001b[38;5;241m=\u001b[39m\u001b[38;5;28mself\u001b[39m\u001b[38;5;241m.\u001b[39moptions\u001b[38;5;241m.\u001b[39mget(\u001b[38;5;124m\"\u001b[39m\u001b[38;5;124mencoding_errors\u001b[39m\u001b[38;5;124m\"\u001b[39m, \u001b[38;5;124m\"\u001b[39m\u001b[38;5;124mstrict\u001b[39m\u001b[38;5;124m\"\u001b[39m),\n\u001b[0;32m   1669\u001b[0m     storage_options\u001b[38;5;241m=\u001b[39m\u001b[38;5;28mself\u001b[39m\u001b[38;5;241m.\u001b[39moptions\u001b[38;5;241m.\u001b[39mget(\u001b[38;5;124m\"\u001b[39m\u001b[38;5;124mstorage_options\u001b[39m\u001b[38;5;124m\"\u001b[39m, \u001b[38;5;28;01mNone\u001b[39;00m),\n\u001b[0;32m   1670\u001b[0m )\n\u001b[0;32m   1671\u001b[0m \u001b[38;5;28;01massert\u001b[39;00m \u001b[38;5;28mself\u001b[39m\u001b[38;5;241m.\u001b[39mhandles \u001b[38;5;129;01mis\u001b[39;00m \u001b[38;5;129;01mnot\u001b[39;00m \u001b[38;5;28;01mNone\u001b[39;00m\n\u001b[0;32m   1672\u001b[0m f \u001b[38;5;241m=\u001b[39m \u001b[38;5;28mself\u001b[39m\u001b[38;5;241m.\u001b[39mhandles\u001b[38;5;241m.\u001b[39mhandle\n",
      "File \u001b[1;32m~\\anaconda3\\Lib\\site-packages\\pandas\\io\\common.py:859\u001b[0m, in \u001b[0;36mget_handle\u001b[1;34m(path_or_buf, mode, encoding, compression, memory_map, is_text, errors, storage_options)\u001b[0m\n\u001b[0;32m    854\u001b[0m \u001b[38;5;28;01melif\u001b[39;00m \u001b[38;5;28misinstance\u001b[39m(handle, \u001b[38;5;28mstr\u001b[39m):\n\u001b[0;32m    855\u001b[0m     \u001b[38;5;66;03m# Check whether the filename is to be opened in binary mode.\u001b[39;00m\n\u001b[0;32m    856\u001b[0m     \u001b[38;5;66;03m# Binary mode does not support 'encoding' and 'newline'.\u001b[39;00m\n\u001b[0;32m    857\u001b[0m     \u001b[38;5;28;01mif\u001b[39;00m ioargs\u001b[38;5;241m.\u001b[39mencoding \u001b[38;5;129;01mand\u001b[39;00m \u001b[38;5;124m\"\u001b[39m\u001b[38;5;124mb\u001b[39m\u001b[38;5;124m\"\u001b[39m \u001b[38;5;129;01mnot\u001b[39;00m \u001b[38;5;129;01min\u001b[39;00m ioargs\u001b[38;5;241m.\u001b[39mmode:\n\u001b[0;32m    858\u001b[0m         \u001b[38;5;66;03m# Encoding\u001b[39;00m\n\u001b[1;32m--> 859\u001b[0m         handle \u001b[38;5;241m=\u001b[39m \u001b[38;5;28mopen\u001b[39m(\n\u001b[0;32m    860\u001b[0m             handle,\n\u001b[0;32m    861\u001b[0m             ioargs\u001b[38;5;241m.\u001b[39mmode,\n\u001b[0;32m    862\u001b[0m             encoding\u001b[38;5;241m=\u001b[39mioargs\u001b[38;5;241m.\u001b[39mencoding,\n\u001b[0;32m    863\u001b[0m             errors\u001b[38;5;241m=\u001b[39merrors,\n\u001b[0;32m    864\u001b[0m             newline\u001b[38;5;241m=\u001b[39m\u001b[38;5;124m\"\u001b[39m\u001b[38;5;124m\"\u001b[39m,\n\u001b[0;32m    865\u001b[0m         )\n\u001b[0;32m    866\u001b[0m     \u001b[38;5;28;01melse\u001b[39;00m:\n\u001b[0;32m    867\u001b[0m         \u001b[38;5;66;03m# Binary mode\u001b[39;00m\n\u001b[0;32m    868\u001b[0m         handle \u001b[38;5;241m=\u001b[39m \u001b[38;5;28mopen\u001b[39m(handle, ioargs\u001b[38;5;241m.\u001b[39mmode)\n",
      "\u001b[1;31mFileNotFoundError\u001b[0m: [Errno 2] No such file or directory: '/kaggle/input/paysim1/PS_20174392719_1491204439457_log.csv'"
     ]
    }
   ],
   "source": [
    "# read the data\n",
    "df = pd.read_csv(\"/kaggle/input/paysim1/PS_20174392719_1491204439457_log.csv\")"
   ]
  },
  {
   "cell_type": "code",
   "execution_count": null,
   "id": "169249d3",
   "metadata": {
    "execution": {
     "iopub.execute_input": "2024-06-07T13:36:52.892629Z",
     "iopub.status.busy": "2024-06-07T13:36:52.891684Z",
     "iopub.status.idle": "2024-06-07T13:36:52.922763Z",
     "shell.execute_reply": "2024-06-07T13:36:52.921616Z"
    },
    "papermill": {
     "duration": 0.043865,
     "end_time": "2024-06-07T13:36:52.925198",
     "exception": false,
     "start_time": "2024-06-07T13:36:52.881333",
     "status": "completed"
    },
    "tags": []
   },
   "outputs": [],
   "source": [
    "# checking the first 5 rows of the data\n",
    "df.head()"
   ]
  },
  {
   "cell_type": "code",
   "execution_count": null,
   "id": "194d5ff7",
   "metadata": {
    "execution": {
     "iopub.execute_input": "2024-06-07T13:36:52.945042Z",
     "iopub.status.busy": "2024-06-07T13:36:52.944650Z",
     "iopub.status.idle": "2024-06-07T13:36:52.951278Z",
     "shell.execute_reply": "2024-06-07T13:36:52.950221Z"
    },
    "papermill": {
     "duration": 0.019288,
     "end_time": "2024-06-07T13:36:52.953532",
     "exception": false,
     "start_time": "2024-06-07T13:36:52.934244",
     "status": "completed"
    },
    "tags": []
   },
   "outputs": [],
   "source": [
    "# checking the shape of the data\n",
    "df.shape"
   ]
  },
  {
   "cell_type": "code",
   "execution_count": null,
   "id": "110e0afb",
   "metadata": {
    "execution": {
     "iopub.execute_input": "2024-06-07T13:36:52.973897Z",
     "iopub.status.busy": "2024-06-07T13:36:52.973495Z",
     "iopub.status.idle": "2024-06-07T13:36:52.998246Z",
     "shell.execute_reply": "2024-06-07T13:36:52.996904Z"
    },
    "papermill": {
     "duration": 0.038146,
     "end_time": "2024-06-07T13:36:53.000910",
     "exception": false,
     "start_time": "2024-06-07T13:36:52.962764",
     "status": "completed"
    },
    "tags": []
   },
   "outputs": [],
   "source": [
    "# checking the overall info about the data\n",
    "df.info()"
   ]
  },
  {
   "cell_type": "code",
   "execution_count": null,
   "id": "db84663f",
   "metadata": {
    "execution": {
     "iopub.execute_input": "2024-06-07T13:36:53.022106Z",
     "iopub.status.busy": "2024-06-07T13:36:53.021304Z",
     "iopub.status.idle": "2024-06-07T13:36:55.058490Z",
     "shell.execute_reply": "2024-06-07T13:36:55.057291Z"
    },
    "papermill": {
     "duration": 2.050593,
     "end_time": "2024-06-07T13:36:55.061102",
     "exception": false,
     "start_time": "2024-06-07T13:36:53.010509",
     "status": "completed"
    },
    "tags": []
   },
   "outputs": [],
   "source": [
    "# checking for null values\n",
    "df.isna().sum()"
   ]
  },
  {
   "cell_type": "code",
   "execution_count": null,
   "id": "cd6e82ee",
   "metadata": {
    "execution": {
     "iopub.execute_input": "2024-06-07T13:36:55.082113Z",
     "iopub.status.busy": "2024-06-07T13:36:55.081722Z",
     "iopub.status.idle": "2024-06-07T13:36:57.029819Z",
     "shell.execute_reply": "2024-06-07T13:36:57.028739Z"
    },
    "papermill": {
     "duration": 1.9617,
     "end_time": "2024-06-07T13:36:57.032509",
     "exception": false,
     "start_time": "2024-06-07T13:36:55.070809",
     "status": "completed"
    },
    "tags": []
   },
   "outputs": [],
   "source": [
    "# descriptive statistics of the data\n",
    "df.describe().round(2)"
   ]
  },
  {
   "cell_type": "code",
   "execution_count": null,
   "id": "8d4ff150",
   "metadata": {
    "execution": {
     "iopub.execute_input": "2024-06-07T13:36:57.054199Z",
     "iopub.status.busy": "2024-06-07T13:36:57.053808Z",
     "iopub.status.idle": "2024-06-07T13:36:57.631587Z",
     "shell.execute_reply": "2024-06-07T13:36:57.630536Z"
    },
    "papermill": {
     "duration": 0.591484,
     "end_time": "2024-06-07T13:36:57.633967",
     "exception": false,
     "start_time": "2024-06-07T13:36:57.042483",
     "status": "completed"
    },
    "tags": []
   },
   "outputs": [],
   "source": [
    "# checking type column categories\n",
    "df[\"type\"].unique()"
   ]
  },
  {
   "cell_type": "code",
   "execution_count": null,
   "id": "c03c908f",
   "metadata": {
    "execution": {
     "iopub.execute_input": "2024-06-07T13:36:57.655733Z",
     "iopub.status.busy": "2024-06-07T13:36:57.655329Z",
     "iopub.status.idle": "2024-06-07T13:36:58.768768Z",
     "shell.execute_reply": "2024-06-07T13:36:58.767655Z"
    },
    "papermill": {
     "duration": 1.127183,
     "end_time": "2024-06-07T13:36:58.771148",
     "exception": false,
     "start_time": "2024-06-07T13:36:57.643965",
     "status": "completed"
    },
    "tags": []
   },
   "outputs": [],
   "source": [
    "# storing the column ech categorie count \n",
    "type = df[\"type\"].value_counts()"
   ]
  },
  {
   "cell_type": "code",
   "execution_count": null,
   "id": "80caf91e",
   "metadata": {
    "execution": {
     "iopub.execute_input": "2024-06-07T13:36:58.793903Z",
     "iopub.status.busy": "2024-06-07T13:36:58.792890Z",
     "iopub.status.idle": "2024-06-07T13:36:58.797867Z",
     "shell.execute_reply": "2024-06-07T13:36:58.796991Z"
    },
    "papermill": {
     "duration": 0.018819,
     "end_time": "2024-06-07T13:36:58.800155",
     "exception": false,
     "start_time": "2024-06-07T13:36:58.781336",
     "status": "completed"
    },
    "tags": []
   },
   "outputs": [],
   "source": [
    "# getting the categories in type column\n",
    "transaction = type.index"
   ]
  },
  {
   "cell_type": "code",
   "execution_count": null,
   "id": "d352a9a4",
   "metadata": {
    "execution": {
     "iopub.execute_input": "2024-06-07T13:36:58.821978Z",
     "iopub.status.busy": "2024-06-07T13:36:58.821305Z",
     "iopub.status.idle": "2024-06-07T13:36:58.828357Z",
     "shell.execute_reply": "2024-06-07T13:36:58.827429Z"
    },
    "papermill": {
     "duration": 0.020485,
     "end_time": "2024-06-07T13:36:58.830597",
     "exception": false,
     "start_time": "2024-06-07T13:36:58.810112",
     "status": "completed"
    },
    "tags": []
   },
   "outputs": [],
   "source": [
    "quantity = type.values\n",
    "quantity"
   ]
  },
  {
   "cell_type": "code",
   "execution_count": null,
   "id": "618277f4",
   "metadata": {
    "execution": {
     "iopub.execute_input": "2024-06-07T13:36:58.852822Z",
     "iopub.status.busy": "2024-06-07T13:36:58.852443Z",
     "iopub.status.idle": "2024-06-07T13:37:00.443285Z",
     "shell.execute_reply": "2024-06-07T13:37:00.442259Z"
    },
    "papermill": {
     "duration": 1.605176,
     "end_time": "2024-06-07T13:37:00.445961",
     "exception": false,
     "start_time": "2024-06-07T13:36:58.840785",
     "status": "completed"
    },
    "tags": []
   },
   "outputs": [],
   "source": [
    "# visualizing the type column categories\n",
    "px.pie(df, values = quantity, names = transaction,hole = 0.4,title = \"distribution of transaction type\")"
   ]
  },
  {
   "cell_type": "code",
   "execution_count": null,
   "id": "49afd0b8",
   "metadata": {
    "execution": {
     "iopub.execute_input": "2024-06-07T13:37:00.481150Z",
     "iopub.status.busy": "2024-06-07T13:37:00.480771Z",
     "iopub.status.idle": "2024-06-07T13:37:00.547935Z",
     "shell.execute_reply": "2024-06-07T13:37:00.546790Z"
    },
    "papermill": {
     "duration": 0.087761,
     "end_time": "2024-06-07T13:37:00.550535",
     "exception": false,
     "start_time": "2024-06-07T13:37:00.462774",
     "status": "completed"
    },
    "tags": []
   },
   "outputs": [],
   "source": [
    "# Count the number of occurrences of each value in the 'isFraud' column\n",
    "fraud_counts = df['isFraud'].value_counts()\n",
    "\n",
    "# Calculate the percentage of fraud and non-fraud cases\n",
    "fraud_percentage = (fraud_counts[1] / len(df)) * 100\n",
    "non_fraud_percentage = (fraud_counts[0] / len(df)) * 100\n",
    "\n",
    "# Print the fraud and non-fraud percentages\n",
    "print(\"Fraud percentage:\", fraud_percentage)\n",
    "print(\"Non-fraud percentage:\", non_fraud_percentage)"
   ]
  },
  {
   "cell_type": "code",
   "execution_count": null,
   "id": "36b8b26f",
   "metadata": {
    "execution": {
     "iopub.execute_input": "2024-06-07T13:37:00.585868Z",
     "iopub.status.busy": "2024-06-07T13:37:00.585472Z",
     "iopub.status.idle": "2024-06-07T13:37:02.829521Z",
     "shell.execute_reply": "2024-06-07T13:37:02.828265Z"
    },
    "papermill": {
     "duration": 2.264693,
     "end_time": "2024-06-07T13:37:02.832076",
     "exception": false,
     "start_time": "2024-06-07T13:37:00.567383",
     "status": "completed"
    },
    "tags": []
   },
   "outputs": [],
   "source": [
    "print('\\n The types of fraudulent transactions are {}'.format(\\\n",
    "list(df.loc[df.isFraud == 1].type.drop_duplicates().values)))\n",
    "\n",
    "dfFraudTransfer = df.loc[(df.isFraud == 1) & (df.type == 'TRANSFER')]\n",
    "dfFraudCashout = df.loc[(df.isFraud == 1) & (df.type == 'CASH_OUT')]\n",
    "\n",
    "print ('\\n The number of fraudulent TRANSFERs = {}'.\\\n",
    "       format(len(dfFraudTransfer)))\n",
    "\n",
    "print ('\\n The number of fraudulent CASH_OUTs = {}'.\\\n",
    "       format(len(dfFraudCashout)))"
   ]
  },
  {
   "cell_type": "code",
   "execution_count": null,
   "id": "7fedc207",
   "metadata": {
    "execution": {
     "iopub.execute_input": "2024-06-07T13:37:02.868159Z",
     "iopub.status.busy": "2024-06-07T13:37:02.867773Z",
     "iopub.status.idle": "2024-06-07T13:37:02.941018Z",
     "shell.execute_reply": "2024-06-07T13:37:02.940007Z"
    },
    "papermill": {
     "duration": 0.094434,
     "end_time": "2024-06-07T13:37:02.943828",
     "exception": false,
     "start_time": "2024-06-07T13:37:02.849394",
     "status": "completed"
    },
    "tags": []
   },
   "outputs": [],
   "source": [
    "#Checking for balance in target\n",
    "fig = go.Figure(data=[go.Pie(labels=['Not Fraud','Fraud'], values=df['isFraud'].value_counts())])\n",
    "fig.show()"
   ]
  },
  {
   "cell_type": "code",
   "execution_count": null,
   "id": "0854b70d",
   "metadata": {
    "execution": {
     "iopub.execute_input": "2024-06-07T13:37:02.992186Z",
     "iopub.status.busy": "2024-06-07T13:37:02.991815Z",
     "iopub.status.idle": "2024-06-07T13:37:15.747988Z",
     "shell.execute_reply": "2024-06-07T13:37:15.747052Z"
    },
    "papermill": {
     "duration": 12.783562,
     "end_time": "2024-06-07T13:37:15.750843",
     "exception": false,
     "start_time": "2024-06-07T13:37:02.967281",
     "status": "completed"
    },
    "tags": []
   },
   "outputs": [],
   "source": [
    "# replacing string to integer values bassed the max occurance in the data\n",
    "df.replace(to_replace = ['PAYMENT', 'TRANSFER', 'CASH_OUT', 'DEBIT', 'CASH_IN'], value = [2,4,1,5,3],inplace = True)"
   ]
  },
  {
   "cell_type": "code",
   "execution_count": null,
   "id": "40ba19fb",
   "metadata": {
    "execution": {
     "iopub.execute_input": "2024-06-07T13:37:15.800367Z",
     "iopub.status.busy": "2024-06-07T13:37:15.799916Z",
     "iopub.status.idle": "2024-06-07T13:37:15.894593Z",
     "shell.execute_reply": "2024-06-07T13:37:15.893684Z"
    },
    "papermill": {
     "duration": 0.122179,
     "end_time": "2024-06-07T13:37:15.897095",
     "exception": false,
     "start_time": "2024-06-07T13:37:15.774916",
     "status": "completed"
    },
    "tags": []
   },
   "outputs": [],
   "source": [
    "# taking the required columns for further analysis\n",
    "x = df[['type','amount','oldbalanceOrg','newbalanceOrig']]\n",
    "y = df[['isFraud']]"
   ]
  },
  {
   "cell_type": "code",
   "execution_count": null,
   "id": "4b3e374c",
   "metadata": {
    "execution": {
     "iopub.execute_input": "2024-06-07T13:37:16.010157Z",
     "iopub.status.busy": "2024-06-07T13:37:16.009783Z",
     "iopub.status.idle": "2024-06-07T13:37:18.264283Z",
     "shell.execute_reply": "2024-06-07T13:37:18.263341Z"
    },
    "papermill": {
     "duration": 2.346477,
     "end_time": "2024-06-07T13:37:18.267055",
     "exception": false,
     "start_time": "2024-06-07T13:37:15.920578",
     "status": "completed"
    },
    "tags": []
   },
   "outputs": [],
   "source": [
    "# Undersampling:\n",
    "undersampler = RandomUnderSampler(random_state=42)\n",
    "X_res, y_res = undersampler.fit_resample(x, y)"
   ]
  },
  {
   "cell_type": "code",
   "execution_count": null,
   "id": "8bf8fd0e",
   "metadata": {
    "execution": {
     "iopub.execute_input": "2024-06-07T13:37:18.318560Z",
     "iopub.status.busy": "2024-06-07T13:37:18.317833Z",
     "iopub.status.idle": "2024-06-07T13:37:18.331708Z",
     "shell.execute_reply": "2024-06-07T13:37:18.330649Z"
    },
    "papermill": {
     "duration": 0.043274,
     "end_time": "2024-06-07T13:37:18.334236",
     "exception": false,
     "start_time": "2024-06-07T13:37:18.290962",
     "status": "completed"
    },
    "tags": []
   },
   "outputs": [],
   "source": [
    "#Checking for balance in target\n",
    "fig = go.Figure(data=[go.Pie(labels=['Not Fraud','Fraud'], values=y_res['isFraud'].value_counts())])\n",
    "fig.show()"
   ]
  },
  {
   "cell_type": "code",
   "execution_count": null,
   "id": "81fd7280",
   "metadata": {
    "execution": {
     "iopub.execute_input": "2024-06-07T13:37:18.397628Z",
     "iopub.status.busy": "2024-06-07T13:37:18.397153Z",
     "iopub.status.idle": "2024-06-07T13:37:18.406981Z",
     "shell.execute_reply": "2024-06-07T13:37:18.405844Z"
    },
    "papermill": {
     "duration": 0.044707,
     "end_time": "2024-06-07T13:37:18.409442",
     "exception": false,
     "start_time": "2024-06-07T13:37:18.364735",
     "status": "completed"
    },
    "tags": []
   },
   "outputs": [],
   "source": [
    "# Train-test split\n",
    "X_train, X_test, y_train, y_test = train_test_split(X_res, y_res, train_size=0.7, random_state=111)"
   ]
  },
  {
   "cell_type": "code",
   "execution_count": null,
   "id": "2a0445e0",
   "metadata": {
    "execution": {
     "iopub.execute_input": "2024-06-07T13:37:18.472204Z",
     "iopub.status.busy": "2024-06-07T13:37:18.471801Z",
     "iopub.status.idle": "2024-06-07T13:37:18.484063Z",
     "shell.execute_reply": "2024-06-07T13:37:18.483096Z"
    },
    "papermill": {
     "duration": 0.046477,
     "end_time": "2024-06-07T13:37:18.486591",
     "exception": false,
     "start_time": "2024-06-07T13:37:18.440114",
     "status": "completed"
    },
    "tags": []
   },
   "outputs": [],
   "source": [
    "#Standardizing the numerical columns\n",
    "col_names=['amount','oldbalanceOrg','newbalanceOrig']\n",
    "features_train = X_train[col_names]\n",
    "features_test = X_test[col_names]\n",
    "scaler = StandardScaler().fit(features_train.values)\n",
    "features_train = scaler.transform(features_train.values)\n",
    "features_test = scaler.transform(features_test.values)\n",
    "X_train[col_names] = features_train\n",
    "X_test[col_names] =features_test"
   ]
  },
  {
   "cell_type": "code",
   "execution_count": null,
   "id": "002b8835",
   "metadata": {
    "execution": {
     "iopub.execute_input": "2024-06-07T13:37:18.550772Z",
     "iopub.status.busy": "2024-06-07T13:37:18.549645Z",
     "iopub.status.idle": "2024-06-07T13:38:09.879904Z",
     "shell.execute_reply": "2024-06-07T13:38:09.878657Z"
    },
    "papermill": {
     "duration": 51.36523,
     "end_time": "2024-06-07T13:38:09.882494",
     "exception": false,
     "start_time": "2024-06-07T13:37:18.517264",
     "status": "completed"
    },
    "tags": []
   },
   "outputs": [],
   "source": [
    "#creating the objects\n",
    "logreg_cv = LogisticRegression(solver='liblinear',random_state=123)\n",
    "dt_cv=DecisionTreeClassifier(random_state=123)\n",
    "knn_cv=KNeighborsClassifier()\n",
    "svc_cv=SVC(kernel='linear',random_state=123)\n",
    "nb_cv=GaussianNB()\n",
    "rf_cv=RandomForestClassifier(random_state=123)\n",
    "cv_dict = {0: 'Logistic Regression', 1: 'Decision Tree',2:'KNN',3:'SVC',4:'Naive Bayes',5:'Random Forest'}\n",
    "cv_models=[logreg_cv,dt_cv,knn_cv,svc_cv,nb_cv,rf_cv]\n",
    "\n",
    "\n",
    "for i,model in enumerate(cv_models):\n",
    "    print(\"{} Test Accuracy: {}\".format(cv_dict[i],cross_val_score(model, X_train, y_train, cv=10, scoring ='accuracy').mean()))"
   ]
  },
  {
   "cell_type": "code",
   "execution_count": null,
   "id": "2fb0aba4",
   "metadata": {
    "execution": {
     "iopub.execute_input": "2024-06-07T13:38:09.945887Z",
     "iopub.status.busy": "2024-06-07T13:38:09.945472Z",
     "iopub.status.idle": "2024-06-07T13:42:33.764735Z",
     "shell.execute_reply": "2024-06-07T13:42:33.763448Z"
    },
    "papermill": {
     "duration": 263.885026,
     "end_time": "2024-06-07T13:42:33.798528",
     "exception": false,
     "start_time": "2024-06-07T13:38:09.913502",
     "status": "completed"
    },
    "tags": []
   },
   "outputs": [],
   "source": [
    "# hyperparameter tuning\n",
    "param_grid = {\n",
    "    'n_estimators': [100, 200, 500],\n",
    "    'max_depth': [2, 4, 8],\n",
    "    'min_samples_split': [2, 5, 10],\n",
    "}\n",
    "# Create the Random Forest classifier\n",
    "rfc = RandomForestClassifier()\n",
    "\n",
    "# Create the GridSearchCV object\n",
    "grid_search = GridSearchCV(estimator=rfc, param_grid=param_grid, scoring='accuracy')\n",
    "\n",
    "# Fit the GridSearchCV object to the training data\n",
    "grid_search.fit(X_train, y_train)\n",
    "\n",
    "# Get the best estimator and its parameters\n",
    "best_estimator = grid_search.best_estimator_\n",
    "best_params = grid_search.best_params_\n",
    "\n",
    "# Print the best parameters\n",
    "print(\"Best parameters:\", best_params)\n",
    "\n",
    "# Evaluate the best model on the test data\n",
    "y_pred = best_estimator.predict(X_test)\n",
    "test_accuracy = accuracy_score(y_test, y_pred)\n",
    "print(\"Test accuracy:\", test_accuracy)"
   ]
  },
  {
   "cell_type": "code",
   "execution_count": null,
   "id": "7b2af2ea",
   "metadata": {
    "execution": {
     "iopub.execute_input": "2024-06-07T13:42:33.863075Z",
     "iopub.status.busy": "2024-06-07T13:42:33.862687Z",
     "iopub.status.idle": "2024-06-07T13:42:33.887568Z",
     "shell.execute_reply": "2024-06-07T13:42:33.886293Z"
    },
    "papermill": {
     "duration": 0.060203,
     "end_time": "2024-06-07T13:42:33.890405",
     "exception": false,
     "start_time": "2024-06-07T13:42:33.830202",
     "status": "completed"
    },
    "tags": []
   },
   "outputs": [],
   "source": [
    "#Classification metrics\n",
    "print(classification_report(y_test, y_pred, target_names=['Not Fraud','Fraud']))"
   ]
  },
  {
   "cell_type": "code",
   "execution_count": null,
   "id": "add73a72",
   "metadata": {
    "papermill": {
     "duration": 0.030823,
     "end_time": "2024-06-07T13:42:33.953546",
     "exception": false,
     "start_time": "2024-06-07T13:42:33.922723",
     "status": "completed"
    },
    "tags": []
   },
   "outputs": [],
   "source": []
  },
  {
   "cell_type": "code",
   "execution_count": null,
   "id": "43205f4a",
   "metadata": {
    "papermill": {
     "duration": 0.03073,
     "end_time": "2024-06-07T13:42:34.015446",
     "exception": false,
     "start_time": "2024-06-07T13:42:33.984716",
     "status": "completed"
    },
    "tags": []
   },
   "outputs": [],
   "source": []
  }
 ],
 "metadata": {
  "kaggle": {
   "accelerator": "none",
   "dataSources": [
    {
     "datasetId": 1069,
     "sourceId": 1940,
     "sourceType": "datasetVersion"
    }
   ],
   "dockerImageVersionId": 30558,
   "isGpuEnabled": false,
   "isInternetEnabled": true,
   "language": "python",
   "sourceType": "notebook"
  },
  "kernelspec": {
   "display_name": "Python 3 (ipykernel)",
   "language": "python",
   "name": "python3"
  },
  "language_info": {
   "codemirror_mode": {
    "name": "ipython",
    "version": 3
   },
   "file_extension": ".py",
   "mimetype": "text/x-python",
   "name": "python",
   "nbconvert_exporter": "python",
   "pygments_lexer": "ipython3",
   "version": "3.11.5"
  },
  "papermill": {
   "default_parameters": {},
   "duration": 372.780027,
   "end_time": "2024-06-07T13:42:35.372495",
   "environment_variables": {},
   "exception": null,
   "input_path": "__notebook__.ipynb",
   "output_path": "__notebook__.ipynb",
   "parameters": {},
   "start_time": "2024-06-07T13:36:22.592468",
   "version": "2.4.0"
  }
 },
 "nbformat": 4,
 "nbformat_minor": 5
}
